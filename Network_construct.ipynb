{
 "cells": [
  {
   "cell_type": "code",
   "execution_count": 14,
   "id": "640bdf34",
   "metadata": {},
   "outputs": [],
   "source": [
    "import numpy as np \n",
    "from operator import itemgetter\n",
    "import math\n",
    "import networkx as nx\n",
    "import numpy as np\n",
    "from scipy.optimize import minimize\n",
    "from scipy.optimize import differential_evolution\n",
    "from scipy.optimize import basinhopping\n",
    "from scipy.stats import expon\n",
    "import matplotlib.pyplot as plt\n",
    "\n",
    "import pandas as pd \n",
    "import math\n"
   ]
  },
  {
   "cell_type": "code",
   "execution_count": 20,
   "id": "042d0405",
   "metadata": {},
   "outputs": [],
   "source": [
    "\n",
    "## W_person_topics is a dictionary, personID is the key, the value is a list of the reddits the user has visited.\n",
    "\n",
    "W2={}\n",
    "W3={}\n",
    "for i in W_person_topics.keys(): \n",
    "    trajectory=W_person_topics[i] \n",
    "    for j in trajectory:\n",
    "        for jj in trajectory: \n",
    "            if j!=jj: \n",
    "                try:\n",
    "                    W2[j,jj]+=1\n",
    "                except:\n",
    "                    W2[j,jj]=1\n",
    "                try:\n",
    "                    W3[j]+=1\n",
    "                except:\n",
    "                    W3[j]=1\n",
    "                    \n",
    "                try:\n",
    "                    W3[jj]+=1\n",
    "                except:\n",
    "                    W3[jj]=1\n",
    "                    \n",
    "sum1=0\n",
    "sum2=0\n",
    "for x,value in W2.items():  \n",
    "    x1=x[0]\n",
    "    x2=x[1]\n",
    "    sum1+=value\n",
    "    sum2+=W3[x1]*W3[x2]\n",
    "       \n",
    "normal=sum2/sum1\n",
    "\n",
    "G = nx.Graph()\n",
    "\n",
    "# Add edges to the graph\n",
    "for x, value in W2.items():\n",
    "    x1 = x[0]\n",
    "    x2 = x[1]\n",
    "    weight0 = value / (W3[x1] * W3[x2]) * normal # measure the ratio between the actual flow and the expected flow\n",
    "    if weight0 > 1: ## only select link weights larger than 1. \n",
    "        G.add_edge(x1, x2, weight=np.log(value))\n",
    "        \n",
    "    G.add_node(x1, size=W3[x1])\n",
    "    G.add_node(x2, size=W3[x2])\n",
    "\n",
    "\n",
    "# Export the graph\n",
    "nx.write_gexf(G, \"diabetes_all.gexf\")\n",
    "\n"
   ]
  }
 ],
 "metadata": {
  "kernelspec": {
   "display_name": "Python 3 (ipykernel)",
   "language": "python",
   "name": "python3"
  },
  "language_info": {
   "codemirror_mode": {
    "name": "ipython",
    "version": 3
   },
   "file_extension": ".py",
   "mimetype": "text/x-python",
   "name": "python",
   "nbconvert_exporter": "python",
   "pygments_lexer": "ipython3",
   "version": "3.11.5"
  }
 },
 "nbformat": 4,
 "nbformat_minor": 5
}
